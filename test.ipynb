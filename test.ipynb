{
 "cells": [
  {
   "cell_type": "code",
   "execution_count": 1,
   "metadata": {},
   "outputs": [
    {
     "name": "stderr",
     "output_type": "stream",
     "text": [
      "/opt/conda/lib/python3.10/site-packages/tqdm/auto.py:22: TqdmWarning: IProgress not found. Please update jupyter and ipywidgets. See https://ipywidgets.readthedocs.io/en/stable/user_install.html\n",
      "  from .autonotebook import tqdm as notebook_tqdm\n"
     ]
    }
   ],
   "source": [
    "import torch\n",
    "import torch.nn as nn\n",
    "import torch.optim as optim\n",
    "\n",
    "import pruner as P\n",
    "import scoring as S"
   ]
  },
  {
   "cell_type": "code",
   "execution_count": 6,
   "metadata": {},
   "outputs": [],
   "source": [
    "device = 'cuda:0'\n",
    "\n",
    "model = nn.Sequential(\n",
    "    nn.Linear(2, 2),\n",
    "    nn.Linear(2, 1)\n",
    ")\n",
    "\n",
    "model = model.to(device)\n",
    "\n",
    "# pr have the masks of the model and manage the spasity\n",
    "# selectable scopes: 'layer', 'neuron', 'global'\n",
    "pr = P.Pruner(model, 'global', weight=True, bias=False, norm=False)\n",
    "\n",
    "optimizer = optim.SGD(model.parameters(), lr=0.01)\n",
    "loss_func = nn.MSELoss()\n"
   ]
  },
  {
   "cell_type": "code",
   "execution_count": 9,
   "metadata": {},
   "outputs": [
    {
     "name": "stdout",
     "output_type": "stream",
     "text": [
      "compressing to 12.5% ... done.\n",
      "tensor([[0., 0.],\n",
      "        [0., 0.]], device='cuda:0')\n",
      "tensor([[0.0000, 0.6096]], device='cuda:0')\n"
     ]
    }
   ],
   "source": [
    "scores = S.magnitude(model, pr)\n",
    "\n",
    "# update_mask updates masks and parameters using the scores\n",
    "pr.update_mask(model, scores, sparsity=0.5)\n",
    "\n",
    "for name, param in model.named_parameters():\n",
    "    if 'weight' in name:\n",
    "        print(param.data)\n"
   ]
  },
  {
   "cell_type": "code",
   "execution_count": 4,
   "metadata": {},
   "outputs": [
    {
     "name": "stderr",
     "output_type": "stream",
     "text": [
      "/opt/conda/lib/python3.10/site-packages/torch/nn/modules/loss.py:536: UserWarning: Using a target size (torch.Size([1, 2])) that is different to the input size (torch.Size([1, 1])). This will likely lead to incorrect results due to broadcasting. Please ensure they have the same size.\n",
      "  return F.mse_loss(input, target, reduction=self.reduction)\n"
     ]
    }
   ],
   "source": [
    "model.train()\n",
    "\n",
    "x = torch.rand(1, 2).to(device)\n",
    "y = torch.Tensor([[0.5, 0.5]]).to(device)\n",
    "\n",
    "outputs = model(x)\n",
    "loss = loss_func(outputs, y)\n",
    "\n",
    "model.zero_grad()\n",
    "loss.backward()\n",
    "\n",
    "# freeze the parameters before optimizer.step()\n",
    "pr.freeze_grad(model)\n",
    "        \n",
    "optimizer.step()\n",
    "\n"
   ]
  },
  {
   "cell_type": "code",
   "execution_count": 5,
   "metadata": {},
   "outputs": [
    {
     "name": "stdout",
     "output_type": "stream",
     "text": [
      "tensor([[0.5060, 0.0000],\n",
      "        [0.0000, 0.2111]], device='cuda:0')\n",
      "tensor([[0.0000, 0.6704]], device='cuda:0')\n"
     ]
    }
   ],
   "source": [
    "for name, param in model.named_parameters():\n",
    "    if 'weight' in name:\n",
    "        print(param.data)"
   ]
  }
 ],
 "metadata": {
  "kernelspec": {
   "display_name": "base",
   "language": "python",
   "name": "python3"
  },
  "language_info": {
   "codemirror_mode": {
    "name": "ipython",
    "version": 3
   },
   "file_extension": ".py",
   "mimetype": "text/x-python",
   "name": "python",
   "nbconvert_exporter": "python",
   "pygments_lexer": "ipython3",
   "version": "3.10.8"
  },
  "orig_nbformat": 4
 },
 "nbformat": 4,
 "nbformat_minor": 2
}
